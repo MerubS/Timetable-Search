{
  "nbformat": 4,
  "nbformat_minor": 0,
  "metadata": {
    "colab": {
      "provenance": [],
      "authorship_tag": "ABX9TyNVwLXPQAnX8UuzHeIiXZkw",
      "include_colab_link": true
    },
    "kernelspec": {
      "name": "python3",
      "display_name": "Python 3"
    },
    "language_info": {
      "name": "python"
    }
  },
  "cells": [
    {
      "cell_type": "markdown",
      "metadata": {
        "id": "view-in-github",
        "colab_type": "text"
      },
      "source": [
        "<a href=\"https://colab.research.google.com/github/MerubS/Timetable-Search/blob/main/SearchTimetable.ipynb\" target=\"_parent\"><img src=\"https://colab.research.google.com/assets/colab-badge.svg\" alt=\"Open In Colab\"/></a>"
      ]
    },
    {
      "cell_type": "code",
      "execution_count": 156,
      "metadata": {
        "colab": {
          "base_uri": "https://localhost:8080/"
        },
        "id": "ctqP26TJJgeN",
        "outputId": "69a409d1-0975-498b-b3f6-ae9aec0a9af2"
      },
      "outputs": [
        {
          "output_type": "stream",
          "name": "stdout",
          "text": [
            "        Days          08-8:55         09-09:55           10-10:55 11-11:55  \\\n",
            "0     MONDAY                   DLP BCS-8B (E2)                               \n",
            "1    TUESDAY  IB BCS-8A (A-4)  DDR BCS-8B (E1)    DDR BCS-8B (E1)            \n",
            "2  WEDNESDAY                   DLP BCS-8B (E2)                               \n",
            "3   THURSDAY                                    DevOp BCS-8B (E1)            \n",
            "4     FRIDAY                                                                 \n",
            "\n",
            "             12-12:55                1-1:55 2-2:55           3-3:55  \n",
            "0                                                   IB BCS-8A (A-4)  \n",
            "1     DDR BCS-8B (E1)     DevOp BCS-8B (E1)                          \n",
            "2  DLP BCS-8B (Lab-4)                                                \n",
            "3                      DevOp BCS-8B (Lab-4)         IB BCS-8A (A-5)  \n",
            "4                                                                    \n"
          ]
        }
      ],
      "source": [
        "\n",
        "import pandas as pd\n",
        "import numpy as np\n",
        "days= ['MONDAY', 'TUESDAY' , 'WEDNESDAY' ,'THURSDAY' , 'FRIDAY']\n",
        "courses = ['DLP BCS-8B\\nSumaiyah', 'IB BCS-8A\\nDr. Saad', 'DDR BCS-8B\\nRahim', 'DevOp BCS-8B\\nMurtaza']\n",
        "timings = ['08-8:55' , '09-09:55' , '10-10:55', '11-11:55' , '12-12:55' , '1-1:55' , '2-2:55' , '3-3:55']\n",
        "newtimetable = pd.DataFrame(columns=['Days', '08-8:55' , '09-09:55' , '10-10:55', '11-11:55' , '12-12:55' , '1-1:55' , '2-2:55' , '3-3:55'])\n",
        "count = 0\n",
        "# timetable = pd.read_excel('FAST School of Computing Spring 2023- V3.xlsx', sheet_name= 'TUESDAY')\n",
        "# timetable\n",
        "for x in days:\n",
        "  timetable = pd.read_excel('FAST School of Computing Spring 2023- V3.xlsx', sheet_name= x)\n",
        "  slicetimetable = timetable.iloc[2:38 , 1:]\n",
        "  mask = slicetimetable.apply(lambda col: col.str.contains('8', na=False), axis=1)\n",
        "  slicetimetable = slicetimetable[mask].dropna(how='all')\n",
        "  mask = slicetimetable.isin(courses).any(axis=1)\n",
        "  slicetimetable = slicetimetable[mask]\n",
        "  newtimetable.loc[count,'Days'] = x\n",
        "  for y in courses:\n",
        "    i, c = np.where(slicetimetable == y)\n",
        "    for m , z in zip(i , c):\n",
        "      rowindex = slicetimetable.iloc[m]\n",
        "      venue = timetable.loc[rowindex.name,x] \n",
        "      l = y.split('\\n')\n",
        "      v = venue.split(' ')\n",
        "      if (v[0] == 'CS') :\n",
        "        newtimetable.loc[count,str(timings[z])] = l[0] +' (' + v[1] + ')'\n",
        "      else :\n",
        "        newtimetable.loc[count,str(timings[z])] = l[0] +' (' + v[0] + ')'\n",
        "  count +=1\n",
        "\n",
        "newtimetable.fillna(\" \", inplace=True)\n",
        "print(newtimetable)\n",
        "newtimetable.to_excel('output.xlsx', index=False)\n",
        "\n",
        "\n"
      ]
    }
  ]
}